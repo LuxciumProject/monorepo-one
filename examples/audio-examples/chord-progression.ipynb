{
 "cells": [
  {
   "cell_type": "markdown",
   "metadata": {},
   "source": [
    "# Advanced Musical Chord Laboratory\n",
    "\n",
    "This notebook provides a comprehensive and professional environment for experimenting with musical chords and progressions, featuring advanced sound generation techniques."
   ]
  },
  {
   "cell_type": "code",
   "execution_count": null,
   "metadata": {},
   "outputs": [],
   "source": [
    "# Import required libraries\n",
    "import sys\n",
    "import subprocess\n",
    "\n",
    "# Check Python environment\n",
    "print(f\"Python version: {sys.version}\")\n",
    "print(f\"Python executable: {sys.executable}\")\n",
    "\n",
    "# Install required packages if needed\n",
    "def install_package(package):\n",
    "    subprocess.check_call([sys.executable, \"-m\", \"pip\", \"install\", package])\n",
    "\n",
    "# Try importing required libraries, install if not found\n",
    "try:\n",
    "    from pydub.generators import Sine, Sawtooth, Square\n",
    "    from pydub import AudioSegment\n",
    "except ImportError:\n",
    "    print(\"Installing pydub...\")\n",
    "    install_package('pydub')\n",
    "    from pydub.generators import Sine, Sawtooth, Square\n",
    "    from pydub import AudioSegment\n",
    "\n",
    "# Check for SoX (Sound eXchange) for advanced audio processing\n",
    "try:\n",
    "    subprocess.run(['sox', '--version'], stdout=subprocess.DEVNULL, stderr=subprocess.DEVNULL, check=True)\n",
    "except (subprocess.CalledProcessError, FileNotFoundError):\n",
    "    print(\"Installing SoX for advanced audio effects...\")\n",
    "    subprocess.run(['sudo', 'dnf', 'install', '-y', 'sox'], check=True)\n",
    "\n",
    "print(\"\\nEnvironment check complete!\")"
   ]
  },
  {
   "cell_type": "markdown",
   "metadata": {},
   "source": [
    "## Musical Theory Background\n",
    "\n",
    "### Advanced Chord Types and Their Emotional Impact\n",
    "\n",
    "- **Basic Triads**:\n",
    "  - Major: Happy, confident, resolved\n",
    "  - Minor: Sad, contemplative, longing\n",
    "  - Diminished: Tense, suspenseful, uneasy\n",
    "  - Augmented: Unsettling, mysterious\n",
    "\n",
    "- **Extended Chords**:\n",
    "  - 7th Chords: Tension seeking resolution\n",
    "  - 9th Chords: Complex, jazzy, sophisticated\n",
    "\n",
    "- **Suspended Chords**:\n",
    "  - Sus2: Open, airy, floating\n",
    "  - Sus4: Dreamy, anticipating\n",
    "\n",
    "### Waveform Characteristics\n",
    "- **Sine Wave**: Pure, clean tone\n",
    "- **Sawtooth Wave**: Bright, harsh, electronic\n",
    "- **Square Wave**: Hollow, buzzy, synthesizer-like"
   ]
  },
  {
   "cell_type": "code",
   "execution_count": 2,
   "metadata": {},
   "outputs": [],
   "source": [
    "# Note frequencies (in Hz) for easy reference\n",
    "NOTES = {\n",
    "    'C4': 261.63, 'C#4': 277.18, 'Db4': 277.18, 'D4': 293.66,\n",
    "    'D#4': 311.13, 'Eb4': 311.13, 'E4': 329.63, 'F4': 349.23,\n",
    "    'F#4': 369.99, 'Gb4': 369.99, 'G4': 392.00, 'G#4': 415.30,\n",
    "    'Ab4': 415.30, 'A4': 440.00, 'A#4': 466.16, 'Bb4': 466.16,\n",
    "    'B4': 493.88, 'C5': 523.25, 'D5': 587.33, 'E5': 659.25\n",
    "}\n",
    "\n",
    "# Pre-defined chord structures with extended chords\n",
    "CHORDS = {\n",
    "    # Basic Triads\n",
    "    'C': [NOTES['C4'], NOTES['E4'], NOTES['G4']],  # C major\n",
    "    'Cm': [NOTES['C4'], NOTES['Eb4'], NOTES['G4']],  # C minor\n",
    "    'Cdim': [NOTES['C4'], NOTES['Eb4'], NOTES['Gb4']],  # C diminished\n",
    "    'Caug': [NOTES['C4'], NOTES['E4'], NOTES['G#4']],  # C augmented\n",
    "    \n",
    "    # Suspended Chords\n",
    "    'Csus2': [NOTES['C4'], NOTES['D4'], NOTES['G4']],  # C suspended 2nd\n",
    "    'Csus4': [NOTES['C4'], NOTES['F4'], NOTES['G4']],  # C suspended 4th\n",
    "    \n",
    "    # Extended Chords\n",
    "    'C7': [NOTES['C4'], NOTES['E4'], NOTES['G4'], NOTES['Bb4']],  # C dominant 7th\n",
    "    'Cmaj7': [NOTES['C4'], NOTES['E4'], NOTES['G4'], NOTES['B4']],  # C major 7th\n",
    "    'C9': [NOTES['C4'], NOTES['E4'], NOTES['G4'], NOTES['Bb4'], NOTES['D5']],  # C 9th\n",
    "    \n",
    "    # Other Common Chords\n",
    "    'Am': [NOTES['A4'], NOTES['C4'], NOTES['E4']],  # A minor\n",
    "    'Am7': [NOTES['A4'], NOTES['C4'], NOTES['E4'], NOTES['G4']],  # A minor 7th\n",
    "    'F': [NOTES['F4'], NOTES['A4'], NOTES['C5']],  # F major\n",
    "    'Fmaj7': [NOTES['F4'], NOTES['A4'], NOTES['C5'], NOTES['E5']],  # F major 7th\n",
    "    'G': [NOTES['G4'], NOTES['B4'], NOTES['D4']]  # G major\n",
    "}"
   ]
  },
  {
   "cell_type": "code",
   "execution_count": 3,
   "metadata": {},
   "outputs": [],
   "source": [
    "def generate_chord(frequencies, duration=1000, harmonics=2, detune=0.5, waveform='sine'):\n",
    "    \"\"\"Generate a chord with harmonics and detuning for warmth.\"\"\"\n",
    "    wave_gen = {'sine': Sine, 'sawtooth': Sawtooth, 'square': Square}[waveform]\n",
    "    chord = AudioSegment.silent(duration=0)\n",
    "\n",
    "    for freq in frequencies:\n",
    "        base = wave_gen(freq).to_audio_segment(duration=duration)\n",
    "        layers = [base.fade_in(20).fade_out(20)]  # Base waveform with fades\n",
    "\n",
    "        # Add harmonics and detuned layers\n",
    "        for i in range(1, harmonics + 1):\n",
    "            harmonic_freq = freq * (i + 1)\n",
    "            detuned_freqs = [harmonic_freq - detune, harmonic_freq + detune]\n",
    "            for dfreq in detuned_freqs:\n",
    "                layers.append(wave_gen(dfreq).to_audio_segment(duration=duration).fade_in(20).fade_out(20))\n",
    "\n",
    "        # Combine all layers for this note\n",
    "        combined = sum(layers)\n",
    "        chord += combined\n",
    "\n",
    "    return chord\n",
    "\n",
    "def apply_reverb(audio_segment, intensity=50):\n",
    "    \"\"\"Apply reverb effect to an AudioSegment.\"\"\"\n",
    "    audio_segment.export(\"temp_input.wav\", format=\"wav\")\n",
    "    subprocess.run([\n",
    "        \"sox\", \"temp_input.wav\", \"temp_reverb.wav\", \"reverb\", str(intensity)\n",
    "    ], stdout=subprocess.DEVNULL, stderr=subprocess.DEVNULL)\n",
    "    return AudioSegment.from_file(\"temp_reverb.wav\", format=\"wav\")\n",
    "\n",
    "def play_audio_segment(audio_segment):\n",
    "    \"\"\"Play an AudioSegment directly using ffplay via subprocess.\"\"\"\n",
    "    audio_segment.export(\"temp_chord.wav\", format=\"wav\")\n",
    "    subprocess.run([\"ffplay\", \"-nodisp\", \"-autoexit\", \"temp_chord.wav\"], stdout=subprocess.DEVNULL, stderr=subprocess.DEVNULL)\n",
    "\n",
    "def play_chord(chord_name, duration=1000, waveform='sine', harmonics=2, detune=0.5):\n",
    "    \"\"\"Play a single named chord with advanced sound generation.\"\"\"\n",
    "    if chord_name in CHORDS:\n",
    "        print(f\"Playing {chord_name} chord (Waveform: {waveform})...\")\n",
    "        chord = generate_chord(CHORDS[chord_name], duration=duration, harmonics=harmonics, detune=detune, waveform=waveform)\n",
    "        chord = apply_reverb(chord, intensity=60)\n",
    "        play_audio_segment(chord)\n",
    "    else:\n",
    "        print(f\"Chord {chord_name} not found!\")\n",
    "\n",
    "def play_progression(progression, duration=1000, delay=0.3, waveform='sine', harmonics=2, detune=0.5):\n",
    "    \"\"\"Play a chord progression with enhanced sound generation.\"\"\"\n",
    "    full_audio = AudioSegment.silent(duration=0)\n",
    "    for chord_name in progression:\n",
    "        if chord_name in CHORDS:\n",
    "            chord = generate_chord(\n",
    "                CHORDS[chord_name], duration=duration,\n",
    "                harmonics=harmonics, detune=detune, waveform=waveform\n",
    "            )\n",
    "            chord = apply_reverb(chord, intensity=60)  # Add reverb\n",
    "            full_audio += chord + AudioSegment.silent(duration=int(delay * 1000))\n",
    "        else:\n",
    "            print(f\"Chord {chord_name} not found in progression!\")\n",
    "    play_audio_segment(full_audio)"
   ]
  },
  {
   "cell_type": "markdown",
   "metadata": {},
   "source": [
    "## Waveform Exploration\n",
    "\n",
    "Explore how different waveforms affect the emotional quality of chords!"
   ]
  },
  {
   "cell_type": "code",
   "execution_count": null,
   "metadata": {},
   "outputs": [],
   "source": [
    "# Waveform Comparison\n",
    "print(\"Comparing Waveforms for C Major Chord\")\n",
    "for waveform in [ 'square']: # 'sine', 'sawtooth',\n",
    "    play_chord('C', waveform=waveform, harmonics=1, detune=3.0)"
   ]
  },
  {
   "cell_type": "markdown",
   "metadata": {},
   "source": [
    "## Extended Chord Exploration\n",
    "\n",
    "Discover the rich textures of extended chords with different waveforms!"
   ]
  },
  {
   "cell_type": "code",
   "execution_count": null,
   "metadata": {},
   "outputs": [],
   "source": [
    "# Extended Chord Progression\n",
    "print(\"Rich Jazz-Inspired Progression\")\n",
    "jazz_progression = ['Cmaj7', 'Am7', 'Fmaj7', 'G9']\n",
    "play_progression(jazz_progression, duration=100, delay=0.54, waveform='sawtooth', harmonics=3, detune=4.5)"
   ]
  },
  {
   "cell_type": "markdown",
   "metadata": {},
   "source": [
    "## Create Your Own!\n",
    "\n",
    "Experiment with chord progressions, waveforms, and sound generation parameters."
   ]
  },
  {
   "cell_type": "code",
   "execution_count": null,
   "metadata": {},
   "outputs": [],
   "source": [
    "# Custom Progression Template\n",
    "custom = [\n",
    "    'Cmaj7',   # Start with a rich major 7th\n",
    "    'Am7',     # Move to a minor 7th\n",
    "    'Fmaj7',   # Then a major 7th\n",
    "    'G9'       # End on a 9th chord\n",
    "]\n",
    "\n",
    "# Uncomment and modify to play:\n",
    "play_progression(custom, duration=300, delay=0.54, waveform='sawtooth', harmonics=1, detune=4.5)"
   ]
  }
 ],
 "metadata": {
  "kernelspec": {
   "display_name": "base",
   "language": "python",
   "name": "python3"
  },
  "language_info": {
   "codemirror_mode": {
    "name": "ipython",
    "version": 3
   },
   "file_extension": ".py",
   "mimetype": "text/x-python",
   "name": "python",
   "nbconvert_exporter": "python",
   "pygments_lexer": "ipython3",
   "version": "3.10.15"
  }
 },
 "nbformat": 4,
 "nbformat_minor": 4
}
